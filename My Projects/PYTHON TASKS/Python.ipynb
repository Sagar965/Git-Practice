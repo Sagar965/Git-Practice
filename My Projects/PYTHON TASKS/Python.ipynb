{
 "cells": [
  {
   "cell_type": "markdown",
   "id": "e5be9a7a-d8b6-4da9-b00d-88a3df5aaf08",
   "metadata": {},
   "source": [
    "# Contact Book"
   ]
  },
  {
   "cell_type": "code",
   "execution_count": null,
   "id": "5085bfd9-0654-4cf0-95dc-7e4fdb74bf5c",
   "metadata": {},
   "outputs": [
    {
     "name": "stdout",
     "output_type": "stream",
     "text": [
      "\n",
      "Menu:\n",
      "1. Add Contact\n",
      "2. View All Contacts\n",
      "3. Search for Contact\n",
      "4. Exit\n"
     ]
    }
   ],
   "source": [
    "def add_contact(contacts):\n",
    "    name = input(\"Enter contact name: \").strip()\n",
    "    phone = input(\"Enter phone number: \").strip()\n",
    "    \n",
    "    # Validate phone number\n",
    "    if phone.isdigit() and len(phone) == 10:\n",
    "        contacts.append({\"name\": name, \"phone\": phone})\n",
    "        print(\"Contact added successfully.\")\n",
    "    else:\n",
    "        print(\"Invalid phone number. Please enter a 10-digit number.\")\n",
    "\n",
    "def display_contacts(contacts):\n",
    "    if contacts:\n",
    "        for contact in contacts:\n",
    "            print(f\"Name: {contact['name']}, Phone: {contact['phone']}\")\n",
    "    else:\n",
    "        print(\"No contacts available.\")\n",
    "\n",
    "def search_contact(contacts):\n",
    "    search_name = input(\"Enter name to search: \").strip().lower()\n",
    "    found_contacts = [contact for contact in contacts if search_name in contact['name'].lower()]\n",
    "    \n",
    "    if found_contacts:\n",
    "        for contact in found_contacts:\n",
    "            print(f\"Found: {contact['name']} - {contact['phone']}\")\n",
    "    else:\n",
    "        print(\"No matching contacts found.\")\n",
    "\n",
    "def contact_book():\n",
    "    contacts = []\n",
    "    while True:\n",
    "        print(\"\\nMenu:\")\n",
    "        print(\"1. Add Contact\")\n",
    "        print(\"2. View All Contacts\")\n",
    "        print(\"3. Search for Contact\")\n",
    "        print(\"4. Exit\")\n",
    "        \n",
    "        choice = input(\"Choose an option: \").strip()\n",
    "        \n",
    "        if choice == \"1\":\n",
    "            add_contact(contacts)\n",
    "        elif choice == \"2\":\n",
    "            display_contacts(contacts)\n",
    "        elif choice == \"3\":\n",
    "            search_contact(contacts)\n",
    "        elif choice == \"4\":\n",
    "            break\n",
    "        else:\n",
    "            print(\"Invalid choice, please try again.\")\n",
    "\n",
    "# Call the contact_book() function to run the program\n",
    "contact_book()\n"
   ]
  },
  {
   "cell_type": "markdown",
   "id": "4d605c42-c6b7-486e-a618-dab4c5e359b9",
   "metadata": {},
   "source": [
    "# Expense Tracker"
   ]
  },
  {
   "cell_type": "code",
   "execution_count": 3,
   "id": "53bd8f53-90a2-4268-af52-721c09e2fccc",
   "metadata": {},
   "outputs": [
    {
     "name": "stdout",
     "output_type": "stream",
     "text": [
      "\n",
      "Menu:\n",
      "1. Add Expense\n",
      "2. View All Expenses\n",
      "3. Total Expenses\n",
      "4. Exit\n"
     ]
    },
    {
     "name": "stdout",
     "output_type": "stream",
     "text": [
      "Choose an option:  4\n"
     ]
    }
   ],
   "source": [
    "def add_expense(expenses):\n",
    "    description = input(\"Enter the expense description: \").strip()\n",
    "    \n",
    "    try:\n",
    "        amount = float(input(\"Enter the amount: \").strip())\n",
    "        if amount > 0:\n",
    "            expenses.append((description, amount))\n",
    "            print(\"Expense added successfully.\")\n",
    "        else:\n",
    "            print(\"Amount must be positive.\")\n",
    "    except ValueError:\n",
    "        print(\"Invalid input! Please enter a valid number.\")\n",
    "\n",
    "def total_expenses(expenses):\n",
    "    total = sum(amount for _, amount in expenses)\n",
    "    print(f\"Total Expenses: ${total:.2f}\")\n",
    "\n",
    "def view_expenses(expenses):\n",
    "    if expenses:\n",
    "        for description, amount in expenses:\n",
    "            print(f\"{description}: ${amount:.2f}\")\n",
    "    else:\n",
    "        print(\"No expenses recorded.\")\n",
    "\n",
    "def expense_tracker():\n",
    "    expenses = []\n",
    "    while True:\n",
    "        print(\"\\nMenu:\")\n",
    "        print(\"1. Add Expense\")\n",
    "        print(\"2. View All Expenses\")\n",
    "        print(\"3. Total Expenses\")\n",
    "        print(\"4. Exit\")\n",
    "        \n",
    "        choice = input(\"Choose an option: \").strip()\n",
    "        \n",
    "        if choice == \"1\":\n",
    "            add_expense(expenses)\n",
    "        elif choice == \"2\":\n",
    "            view_expenses(expenses)\n",
    "        elif choice == \"3\":\n",
    "            total_expenses(expenses)\n",
    "        elif choice == \"4\":\n",
    "            break\n",
    "        else:\n",
    "            print(\"Invalid choice, please try again.\")\n",
    "\n",
    "# Call the expense_tracker() function to run the program\n",
    "expense_tracker()\n"
   ]
  },
  {
   "cell_type": "markdown",
   "id": "bcbfc4e6-8302-4e79-8709-f50749c03e9f",
   "metadata": {},
   "source": [
    "# File-Based To-Do List"
   ]
  },
  {
   "cell_type": "code",
   "execution_count": 5,
   "id": "dfe7e685-6469-43d5-99fb-05b4ced0283c",
   "metadata": {},
   "outputs": [
    {
     "name": "stdout",
     "output_type": "stream",
     "text": [
      "\n",
      "Menu:\n",
      "1. Add To-Do\n",
      "2. View To-Do List\n",
      "3. Exit\n"
     ]
    },
    {
     "name": "stdout",
     "output_type": "stream",
     "text": [
      "Choose an option:  3\n"
     ]
    }
   ],
   "source": [
    "def add_todo():\n",
    "    todo = input(\"Enter a to-do item: \").strip()\n",
    "    try:\n",
    "        with open(\"todos.txt\", \"a\") as file:\n",
    "            file.write(todo + \"\\n\")\n",
    "        print(\"To-do item added.\")\n",
    "    except IOError:\n",
    "        print(\"Error writing to file.\")\n",
    "\n",
    "def view_todos():\n",
    "    try:\n",
    "        with open(\"todos.txt\", \"r\") as file:\n",
    "            todos = file.readlines()\n",
    "        if todos:\n",
    "            print(\"\\nTo-Do List:\")\n",
    "            for item in todos:\n",
    "                print(item.strip())\n",
    "        else:\n",
    "            print(\"No to-do items found.\")\n",
    "    except FileNotFoundError:\n",
    "        print(\"To-do file not found. Starting fresh!\")\n",
    "\n",
    "def todo_list():\n",
    "    while True:\n",
    "        print(\"\\nMenu:\")\n",
    "        print(\"1. Add To-Do\")\n",
    "        print(\"2. View To-Do List\")\n",
    "        print(\"3. Exit\")\n",
    "        \n",
    "        choice = input(\"Choose an option: \").strip()\n",
    "        \n",
    "        if choice == \"1\":\n",
    "            add_todo()\n",
    "        elif choice == \"2\":\n",
    "            view_todos()\n",
    "        elif choice == \"3\":\n",
    "            break\n",
    "        else:\n",
    "            print(\"Invalid choice, please try again.\")\n",
    "\n",
    "# Call the todo_list() function to run the program\n",
    "todo_list()\n"
   ]
  },
  {
   "cell_type": "markdown",
   "id": "7cfb430b-ec5e-4254-9a4a-3a213ad498c9",
   "metadata": {},
   "source": [
    "# Simple Calculator"
   ]
  },
  {
   "cell_type": "code",
   "execution_count": 6,
   "id": "139e913f-b1f8-4335-bf34-32bace54cd5a",
   "metadata": {},
   "outputs": [
    {
     "name": "stdout",
     "output_type": "stream",
     "text": [
      "\n",
      "Menu:\n",
      "1. Add\n",
      "2. Subtract\n",
      "3. Multiply\n",
      "4. Divide\n",
      "5. Exit\n"
     ]
    },
    {
     "name": "stdout",
     "output_type": "stream",
     "text": [
      "Choose an operation:  5\n"
     ]
    }
   ],
   "source": [
    "class Calculator:\n",
    "    def add(self, x, y):\n",
    "        return x + y\n",
    "\n",
    "    def subtract(self, x, y):\n",
    "        return x - y\n",
    "\n",
    "    def multiply(self, x, y):\n",
    "        return x * y\n",
    "\n",
    "    def divide(self, x, y):\n",
    "        try:\n",
    "            return x / y\n",
    "        except ZeroDivisionError:\n",
    "            return \"Cannot divide by zero!\"\n",
    "\n",
    "def calculator_program():\n",
    "    calc = Calculator()\n",
    "    \n",
    "    while True:\n",
    "        print(\"\\nMenu:\")\n",
    "        print(\"1. Add\")\n",
    "        print(\"2. Subtract\")\n",
    "        print(\"3. Multiply\")\n",
    "        print(\"4. Divide\")\n",
    "        print(\"5. Exit\")\n",
    "        \n",
    "        choice = input(\"Choose an operation: \").strip()\n",
    "        \n",
    "        if choice in [\"1\", \"2\", \"3\", \"4\"]:\n",
    "            try:\n",
    "                num1 = float(input(\"Enter first number: \"))\n",
    "                num2 = float(input(\"Enter second number: \"))\n",
    "                \n",
    "                if choice == \"1\":\n",
    "                    result = calc.add(num1, num2)\n",
    "                elif choice == \"2\":\n",
    "                    result = calc.subtract(num1, num2)\n",
    "                elif choice == \"3\":\n",
    "                    result = calc.multiply(num1, num2)\n",
    "                elif choice == \"4\":\n",
    "                    result = calc.divide(num1, num2)\n",
    "                \n",
    "                print(f\"Result: {result}\")\n",
    "            except ValueError:\n",
    "                print(\"Invalid input! Please enter numbers.\")\n",
    "        elif choice == \"5\":\n",
    "            break\n",
    "        else:\n",
    "            print(\"Invalid choice, please try again.\")\n",
    "\n",
    "# Call the calculator_program() function to run the program\n",
    "calculator_program()\n"
   ]
  },
  {
   "cell_type": "code",
   "execution_count": 7,
   "id": "88c92ea9-d89c-45b3-80eb-5a01c3c9b057",
   "metadata": {},
   "outputs": [
    {
     "name": "stdout",
     "output_type": "stream",
     "text": [
      "Enter a sentence:  Heloo this is Topper Dinesh\n"
     ]
    },
    {
     "name": "stdout",
     "output_type": "stream",
     "text": [
      "Unique words in alphabetical order:\n",
      "dinesh\n",
      "heloo\n",
      "is\n",
      "this\n",
      "topper\n"
     ]
    }
   ],
   "source": [
    "import string\n",
    "\n",
    "def process_sentence(sentence):\n",
    "    # Remove punctuation and split into words\n",
    "    sentence = sentence.lower()\n",
    "    sentence = sentence.translate(str.maketrans(\"\", \"\", string.punctuation))\n",
    "    words = set(sentence.split())\n",
    "    return sorted(words)\n",
    "\n",
    "def unique_word_lister():\n",
    "    sentence = input(\"Enter a sentence: \").strip()\n",
    "    \n",
    "    if sentence:\n",
    "        unique_words = process_sentence(sentence)\n",
    "        print(\"Unique words in alphabetical order:\")\n",
    "        for word in unique_words:\n",
    "            print(word)\n",
    "    else:\n",
    "        print(\"No sentence entered.\")\n",
    "\n",
    "# Call the unique_word_lister() function to run the program\n",
    "unique_word_lister()\n"
   ]
  },
  {
   "cell_type": "code",
   "execution_count": null,
   "id": "c9f33ede-0a0d-42e1-8450-8d657dbcad7c",
   "metadata": {},
   "outputs": [],
   "source": []
  }
 ],
 "metadata": {
  "kernelspec": {
   "display_name": "Python 3",
   "language": "python",
   "name": "python3"
  },
  "language_info": {
   "codemirror_mode": {
    "name": "ipython",
    "version": 3
   },
   "file_extension": ".py",
   "mimetype": "text/x-python",
   "name": "python",
   "nbconvert_exporter": "python",
   "pygments_lexer": "ipython3",
   "version": "3.11.4"
  }
 },
 "nbformat": 4,
 "nbformat_minor": 5
}
